{
 "cells": [
  {
   "cell_type": "code",
   "execution_count": 1,
   "id": "7e83d424",
   "metadata": {},
   "outputs": [
    {
     "name": "stdout",
     "output_type": "stream",
     "text": [
      "['Product ID', 'P00001', 'P00002', 'P00003', 'P00004', 'P00005', 'P00006', 'P00007', 'P00008', 'P00009', 'P00010', 'P00011', 'P00012', 'P00013', 'P00014', 'P00015', 'P00016', 'P00017', 'P00018', 'P00019', 'P00020']\n",
      "['Product details', 'Lenovo Laptop', 'Samsung M31', 'Realmi 10pro', 'Oppo F21', 'Lenovo Laptop', 'Samsung M31', 'LG TV 32\"', 'Oppo F21', 'Lenovo Laptop', 'Samsung M31', 'LG TV 32\"', 'Lenovo Laptop', 'Samsung M31', 'Realmi 10pro', 'Lenovo Laptop', 'Oppo F21', 'LG TV 32\"', 'Lenovo Laptop', 'Samsung M31', 'LG TV 32\"']\n",
      "['Customer Details', 'Kaustubh Mahajan', 'Siddhi Kiwale', 'Sanket Kandalkar', 'Yash Mali', 'Yash Bagul', 'Siddhi Kiwale', 'Sanket Kandalkar', 'Kaustubh Mahajan', 'Yash Mali', 'Siddhi Kiwale', 'Sanket Kandalkar', 'Kaustubh Mahajan', 'Yash Mali', 'Siddhi Kiwale', 'Tanuja Mali', 'Kaustubh Mahajan', 'Sanket Kandalkar', 'Siddhi Kiwale', 'Kaustubh Mahajan', 'Yash Mali']\n",
      "{'Product ID': 'Supplier Details', 'P00001': 'Raka Ele.', 'P00002': 'Vijay Sales', 'P00003': 'Gada Ele.', 'P00004': 'Surya Ele.', 'P00005': 'Raka Ele.', 'P00006': 'Gada Ele.', 'P00007': 'Vijay Sales', 'P00008': 'Surya Ele.', 'P00009': 'Raka Ele.', 'P00010': 'Gada Ele.', 'P00011': 'Surya Ele.', 'P00012': 'Raka Ele.', 'P00013': 'Surya Ele.', 'P00014': 'Raka Ele.', 'P00015': 'Gada Ele.', 'P00016': 'Vijay Sales', 'P00017': 'Deshmukh sales', 'P00018': 'Raka Ele.', 'P00019': 'Deshmukh sales', 'P00020': 'Gada Ele.'}\n",
      "{'Product details', 'Oppo F21', 'Lenovo Laptop', 'Realmi 10pro', 'Samsung M31', 'LG TV 32\"'}\n"
     ]
    }
   ],
   "source": [
    "import csv\n",
    "f1 = open(\"Sales.csv\",'r')\n",
    "product_id=[]\n",
    "product_details=[]\n",
    "supplier_details={}\n",
    "customer_details=[]\n",
    "gender = {}\n",
    "d1 = list(csv.reader(f1,delimiter=','))\n",
    "# print(d1)\n",
    "for i in range(len(d1)):\n",
    "    product_id.append(d1[i][0])\n",
    "    product_details.append(d1[i][1])\n",
    "    customer_details.append(d1[i][3])\n",
    "    supplier_details.update({d1[i][0]:d1[i][2]})\n",
    "    gender.update({d1[i][3]:d1[i][4]})\n",
    "print(product_id)\n",
    "print(product_details)\n",
    "print(customer_details)\n",
    "print(supplier_details)\n",
    "name_of_product = set(product_details)\n",
    "print(name_of_product)\n"
   ]
  },
  {
   "cell_type": "code",
   "execution_count": null,
   "id": "7bb78694",
   "metadata": {},
   "outputs": [],
   "source": []
  },
  {
   "cell_type": "code",
   "execution_count": null,
   "id": "d984d625",
   "metadata": {},
   "outputs": [],
   "source": []
  }
 ],
 "metadata": {
  "kernelspec": {
   "display_name": "Python 3 (ipykernel)",
   "language": "python",
   "name": "python3"
  },
  "language_info": {
   "codemirror_mode": {
    "name": "ipython",
    "version": 3
   },
   "file_extension": ".py",
   "mimetype": "text/x-python",
   "name": "python",
   "nbconvert_exporter": "python",
   "pygments_lexer": "ipython3",
   "version": "3.11.3"
  }
 },
 "nbformat": 4,
 "nbformat_minor": 5
}
